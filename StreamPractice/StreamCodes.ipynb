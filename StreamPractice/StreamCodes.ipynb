{
 "cells": [
  {
   "cell_type": "code",
   "execution_count": 2,
   "id": "14ace9cb-f05c-471a-a589-a35bd245abea",
   "metadata": {},
   "outputs": [
    {
     "name": "stdout",
     "output_type": "stream",
     "text": [
      "Hello World\n"
     ]
    }
   ],
   "source": [
    "//TEST\n",
    "System.out.println(\"Hello World\");"
   ]
  },
  {
   "cell_type": "code",
   "execution_count": 17,
   "id": "8cf4d649-6f96-4f99-a97d-9583a3cf9de3",
   "metadata": {},
   "outputs": [
    {
     "name": "stdout",
     "output_type": "stream",
     "text": [
      "a\n",
      "b\n",
      "c\n"
     ]
    }
   ],
   "source": [
    "//1. How to create a stream from a list?\n",
    "import java.util.*;\n",
    "import java.util.stream.*;\n",
    "List<String> list = Arrays.asList(\"a\", \"b\", \"c\");\n",
    "Stream<String> stream = list.stream();\n",
    "stream.forEach(System.out::println);"
   ]
  },
  {
   "cell_type": "code",
   "execution_count": 5,
   "id": "12e4df5d-7244-4cf8-81b6-9aaae0ea11ea",
   "metadata": {},
   "outputs": [
    {
     "name": "stdout",
     "output_type": "stream",
     "text": [
      "[2, 4]\n"
     ]
    }
   ],
   "source": [
    "// How to filter elements in a stream?\n",
    "List<Integer> numbers = Arrays.asList(1, 2, 3, 4, 5);\n",
    "List<Integer> evenNumbers = numbers.stream()\n",
    "    .filter(n -> n % 2 == 0)\n",
    "    .collect(Collectors.toList());\n",
    "System.out.println(evenNumbers);"
   ]
  },
  {
   "cell_type": "code",
   "execution_count": 6,
   "id": "4e66c5f4-7fd0-4e08-8203-bdd78ce06ae9",
   "metadata": {},
   "outputs": [
    {
     "name": "stdout",
     "output_type": "stream",
     "text": [
      "[JOHN, JANE, DOE]\n"
     ]
    }
   ],
   "source": [
    "//How to transform elements using map\n",
    "List<String> names = Arrays.asList(\"john\", \"jane\", \"doe\");\n",
    "List<String> upperCaseNames = names.stream()\n",
    "    .map(String::toUpperCase)\n",
    "    .collect(Collectors.toList());\n",
    "System.out.println(upperCaseNames);"
   ]
  },
  {
   "cell_type": "code",
   "execution_count": 7,
   "id": "91391d89-7ba7-496b-a69d-b3c44339ecf0",
   "metadata": {},
   "outputs": [
    {
     "name": "stdout",
     "output_type": "stream",
     "text": [
      "[1, 2, 5, 8, 9]\n"
     ]
    }
   ],
   "source": [
    "//How to sort elements in a stream?\n",
    "List<Integer> numbers = Arrays.asList(5, 2, 8, 1, 9);\n",
    "List<Integer> sortedNumbers = numbers.stream()\n",
    "    .sorted()\n",
    "    .collect(Collectors.toList());\n",
    "System.out.println(sortedNumbers);"
   ]
  },
  {
   "cell_type": "code",
   "execution_count": 8,
   "id": "c6529e44-ecbc-40e3-9aa1-ba094c484c7e",
   "metadata": {},
   "outputs": [
    {
     "name": "stdout",
     "output_type": "stream",
     "text": [
      "[1, 2, 3]\n"
     ]
    }
   ],
   "source": [
    "//How to limit the number of elements?\n",
    "List<Integer> numbers = Arrays.asList(1, 2, 3, 4, 5);\n",
    "List<Integer> limited = numbers.stream()\n",
    "    .limit(3)\n",
    "    .collect(Collectors.toList());\n",
    "System.out.println(limited);"
   ]
  },
  {
   "cell_type": "code",
   "execution_count": 9,
   "id": "73113a37-182a-498e-996e-a74330874940",
   "metadata": {},
   "outputs": [
    {
     "name": "stdout",
     "output_type": "stream",
     "text": [
      "[3, 4, 5]\n"
     ]
    }
   ],
   "source": [
    "//How to skip elements in a stream?\n",
    "List<Integer> numbers = Arrays.asList(1, 2, 3, 4, 5);\n",
    "List<Integer> skipped = numbers.stream()\n",
    "    .skip(2)\n",
    "    .collect(Collectors.toList());\n",
    "System.out.println(skipped);"
   ]
  },
  {
   "cell_type": "code",
   "execution_count": 10,
   "id": "fe0015c4-1f94-4084-bb4d-a49edc157621",
   "metadata": {},
   "outputs": [
    {
     "name": "stdout",
     "output_type": "stream",
     "text": [
      "[1, 2, 3, 4, 5]\n"
     ]
    }
   ],
   "source": [
    "//How to remove duplicates using distinct?\n",
    "List<Integer> numbers = Arrays.asList(1, 2, 2, 3, 4, 4, 5);\n",
    "List<Integer> distinctNumbers = numbers.stream()\n",
    "    .distinct()\n",
    "    .collect(Collectors.toList());\n",
    "System.out.println(distinctNumbers);"
   ]
  },
  {
   "cell_type": "code",
   "execution_count": 11,
   "id": "518225b5-8b8e-480d-b8e8-d078c8ccc336",
   "metadata": {},
   "outputs": [
    {
     "name": "stdout",
     "output_type": "stream",
     "text": [
      "[a, b, c, d]\n"
     ]
    }
   ],
   "source": [
    "//How to use flatMap to flatten nested collections?\n",
    "List<List<String>> nestedList = Arrays.asList(\n",
    "    Arrays.asList(\"a\", \"b\"),\n",
    "    Arrays.asList(\"c\", \"d\")\n",
    ");\n",
    "List<String> flatList = nestedList.stream()\n",
    "    .flatMap(List::stream)\n",
    "    .collect(Collectors.toList());\n",
    "System.out.println(flatList);"
   ]
  },
  {
   "cell_type": "code",
   "execution_count": 12,
   "id": "ab8743ac-d13f-4527-9d4a-618654cf50dd",
   "metadata": {},
   "outputs": [
    {
     "name": "stdout",
     "output_type": "stream",
     "text": [
      "Processing: 1\n",
      "Processing: 2\n",
      "Processing: 3\n",
      "Processing: 4\n",
      "Processing: 5\n",
      "[2, 4, 6, 8, 10]\n"
     ]
    }
   ],
   "source": [
    "//How to use peek for debugging?\n",
    "List<Integer> numbers = Arrays.asList(1, 2, 3, 4, 5);\n",
    "List<Integer> result = numbers.stream()\n",
    "    .peek(n -> System.out.println(\"Processing: \" + n))\n",
    "    .map(n -> n * 2)\n",
    "    .collect(Collectors.toList());\n",
    "System.out.println(result);"
   ]
  },
  {
   "cell_type": "code",
   "execution_count": 13,
   "id": "53d14a17-a2cd-49ff-ad14-e071ed7c5c4a",
   "metadata": {},
   "outputs": [
    {
     "name": "stdout",
     "output_type": "stream",
     "text": [
      "[ALICE, CHARLIE, DAVID]\n"
     ]
    }
   ],
   "source": [
    "//How to chain multiple operations?\n",
    "List<String> names = Arrays.asList(\"Alice\", \"Bob\", \"Charlie\", \"David\");\n",
    "List<String> result = names.stream()\n",
    "    .filter(name -> name.length() > 3)\n",
    "    .map(String::toUpperCase)\n",
    "    .sorted()\n",
    "    .collect(Collectors.toList());\n",
    "System.out.println(result);"
   ]
  },
  {
   "cell_type": "code",
   "execution_count": 15,
   "id": "4847d8e4-643f-4049-ba5b-c3b5018af83e",
   "metadata": {},
   "outputs": [],
   "source": [
    "//TERMINAL OPERATIONS"
   ]
  },
  {
   "cell_type": "code",
   "execution_count": 16,
   "id": "8a4e61ce-021c-4666-81fa-713404aa5459",
   "metadata": {},
   "outputs": [
    {
     "name": "stdout",
     "output_type": "stream",
     "text": [
      "[John, Jane, Doe]\n"
     ]
    }
   ],
   "source": [
    "//How to collect to a list?\n",
    "List<String> names = Arrays.asList(\"John\", \"Jane\", \"Doe\");\n",
    "List<String> result = names.stream()\n",
    "    .collect(Collectors.toList());\n",
    "System.out.println(result);"
   ]
  },
  {
   "cell_type": "code",
   "execution_count": 18,
   "id": "4a27146d-a284-4e8b-b182-a5ba4c110b04",
   "metadata": {},
   "outputs": [
    {
     "name": "stdout",
     "output_type": "stream",
     "text": [
      "[John, Jane]\n"
     ]
    }
   ],
   "source": [
    "// How to collect to a set?\n",
    "List<String> names = Arrays.asList(\"John\", \"Jane\", \"John\");\n",
    "Set<String> result = names.stream()\n",
    "    .collect(Collectors.toSet());\n",
    "System.out.println(result);"
   ]
  },
  {
   "cell_type": "code",
   "execution_count": 21,
   "id": "1a0666c1-debb-4f3e-a14d-9e1695780e4b",
   "metadata": {},
   "outputs": [
    {
     "name": "stdout",
     "output_type": "stream",
     "text": [
      "John$Jane$Doe\n"
     ]
    }
   ],
   "source": [
    "//How to join strings?\n",
    "List<String> names = Arrays.asList(\"John\", \"Jane\", \"Doe\");\n",
    "String result = names.stream()\n",
    "    .collect(Collectors.joining(\"$\"));\n",
    "System.out.println(result);"
   ]
  },
  {
   "cell_type": "code",
   "execution_count": 22,
   "id": "e13c53de-dd21-4684-b76c-99ce58e9b8e9",
   "metadata": {},
   "outputs": [
    {
     "name": "stdout",
     "output_type": "stream",
     "text": [
      "3\n"
     ]
    }
   ],
   "source": [
    "// How to count elements?\n",
    "List<String> names = Arrays.asList(\"John\", \"Jane\", \"Doe\");\n",
    "long count = names.stream()\n",
    "    .count();\n",
    "System.out.println(count);"
   ]
  },
  {
   "cell_type": "code",
   "execution_count": 23,
   "id": "7bc612fa-7351-4866-a042-b86dabc73836",
   "metadata": {},
   "outputs": [
    {
     "name": "stdout",
     "output_type": "stream",
     "text": [
      "true\n"
     ]
    }
   ],
   "source": [
    "//How to check if any element matches a condition?\n",
    "List<Integer> numbers = Arrays.asList(1, 2, 3, 4, 5);\n",
    "boolean hasEven = numbers.stream()\n",
    "    .anyMatch(n -> n % 2 == 0);\n",
    "System.out.println(hasEven);"
   ]
  },
  {
   "cell_type": "code",
   "execution_count": 24,
   "id": "107711b7-2b93-4be1-98f9-9780bdfb7827",
   "metadata": {},
   "outputs": [
    {
     "name": "stdout",
     "output_type": "stream",
     "text": [
      "true\n"
     ]
    }
   ],
   "source": [
    "//How to check if all elements match a condition?\n",
    "List<Integer> numbers = Arrays.asList(2, 4, 6, 8);\n",
    "boolean allEven = numbers.stream()\n",
    "    .allMatch(n -> n % 2 == 0);\n",
    "System.out.println(allEven);"
   ]
  },
  {
   "cell_type": "code",
   "execution_count": 25,
   "id": "87bb0b26-f4f4-4dc6-9865-4ff113f4773c",
   "metadata": {},
   "outputs": [
    {
     "name": "stdout",
     "output_type": "stream",
     "text": [
      "true\n"
     ]
    }
   ],
   "source": [
    "//How to check if no elements match a condition?\n",
    "List<Integer> numbers = Arrays.asList(1, 3, 5, 7);\n",
    "boolean noneEven = numbers.stream()\n",
    "    .noneMatch(n -> n % 2 == 0);\n",
    "System.out.println(noneEven);"
   ]
  },
  {
   "cell_type": "code",
   "execution_count": 26,
   "id": "8a61fa3d-caeb-49c1-a293-373bbb84a48d",
   "metadata": {},
   "outputs": [
    {
     "name": "stdout",
     "output_type": "stream",
     "text": [
      "Optional[2]\n"
     ]
    }
   ],
   "source": [
    "//How to find the first element?\n",
    "List<Integer> numbers = Arrays.asList(1, 2, 3, 4, 5);\n",
    "Optional<Integer> firstEven = numbers.stream()\n",
    "    .filter(n -> n % 2 == 0)\n",
    "    .findFirst();\n",
    "System.out.println(firstEven);"
   ]
  },
  {
   "cell_type": "code",
   "execution_count": 27,
   "id": "609a9ddc-0c7f-498b-b092-7a0905755df2",
   "metadata": {},
   "outputs": [
    {
     "name": "stdout",
     "output_type": "stream",
     "text": [
      "Optional[2]\n"
     ]
    }
   ],
   "source": [
    "// How to find any element?\n",
    "List<Integer> numbers = Arrays.asList(1, 2, 3, 4, 5);\n",
    "Optional<Integer> anyEven = numbers.stream()\n",
    "    .filter(n -> n % 2 == 0)\n",
    "    .findAny();\n",
    "System.out.println(anyEven);"
   ]
  },
  {
   "cell_type": "code",
   "execution_count": 28,
   "id": "f8bc3b4d-b7c1-4d73-a5bd-a94bdc5019cf",
   "metadata": {},
   "outputs": [
    {
     "name": "stdout",
     "output_type": "stream",
     "text": [
      "John\n",
      "Jane\n",
      "Doe\n"
     ]
    }
   ],
   "source": [
    "//How to use forEach?\n",
    "List<String> names = Arrays.asList(\"John\", \"Jane\", \"Doe\");\n",
    "names.stream()\n",
    "    .forEach(System.out::println);"
   ]
  },
  {
   "cell_type": "code",
   "execution_count": 29,
   "id": "9c3d990b-9349-4119-a710-78dc80505eb9",
   "metadata": {},
   "outputs": [],
   "source": [
    "//NUMERIC STREAM OPERATIONS"
   ]
  },
  {
   "cell_type": "code",
   "execution_count": 31,
   "id": "bacb9561-34ab-45bb-b50a-f273259aa494",
   "metadata": {},
   "outputs": [
    {
     "name": "stdout",
     "output_type": "stream",
     "text": [
      "15\n"
     ]
    }
   ],
   "source": [
    "//How to calculate sum?\n",
    "List<Integer> numbers = Arrays.asList(1, 2, 3, 4, 5);\n",
    "int sum = numbers.stream()\n",
    "    .mapToInt(Integer::intValue)\n",
    "    .sum();\n",
    "System.out.println(sum);"
   ]
  },
  {
   "cell_type": "code",
   "execution_count": 32,
   "id": "4085e45e-75fa-4562-9cb4-9366a1f42b06",
   "metadata": {},
   "outputs": [
    {
     "name": "stdout",
     "output_type": "stream",
     "text": [
      "OptionalDouble[3.0]\n"
     ]
    }
   ],
   "source": [
    "//How to find average?\n",
    "List<Integer> numbers = Arrays.asList(1, 2, 3, 4, 5);\n",
    "OptionalDouble average = numbers.stream()\n",
    "    .mapToInt(Integer::intValue)\n",
    "    .average();\n",
    "System.out.println(average);"
   ]
  },
  {
   "cell_type": "code",
   "execution_count": 33,
   "id": "f8d702c2-f2ab-4f98-b46d-4c2e85b070d4",
   "metadata": {},
   "outputs": [
    {
     "name": "stdout",
     "output_type": "stream",
     "text": [
      "OptionalInt[5]\n"
     ]
    }
   ],
   "source": [
    "//How to find maximum value?\n",
    "List<Integer> numbers = Arrays.asList(1, 2, 3, 4, 5);\n",
    "OptionalInt max = numbers.stream()\n",
    "    .mapToInt(Integer::intValue)\n",
    "    .max();\n",
    "System.out.println(max);"
   ]
  },
  {
   "cell_type": "code",
   "execution_count": 34,
   "id": "8b5ff8c5-d3f5-4e63-8e58-0ff2a51a2ac6",
   "metadata": {},
   "outputs": [
    {
     "name": "stdout",
     "output_type": "stream",
     "text": [
      "OptionalInt[1]\n"
     ]
    }
   ],
   "source": [
    "//How to find minimum value?\n",
    "List<Integer> numbers = Arrays.asList(1, 2, 3, 4, 5);\n",
    "OptionalInt min = numbers.stream()\n",
    "    .mapToInt(Integer::intValue)\n",
    "    .min();\n",
    "System.out.println(min);"
   ]
  },
  {
   "cell_type": "code",
   "execution_count": 36,
   "id": "92c22c7a-0754-425e-972e-5202a2c04efa",
   "metadata": {},
   "outputs": [
    {
     "name": "stdout",
     "output_type": "stream",
     "text": [
      "1\n",
      "2\n",
      "3\n",
      "4\n"
     ]
    }
   ],
   "source": [
    "//How to use range?\n",
    "IntStream.range(1, 5)\n",
    "    .forEach(System.out::println);"
   ]
  },
  {
   "cell_type": "code",
   "execution_count": 37,
   "id": "5c1c94cb-5307-430e-8405-62cc2263ec49",
   "metadata": {},
   "outputs": [],
   "source": [
    "//ADVANCED OPERATIONS"
   ]
  },
  {
   "cell_type": "code",
   "execution_count": 39,
   "id": "f806248e-5877-4a84-bb23-0f7f6a8fe1d2",
   "metadata": {},
   "outputs": [
    {
     "name": "stdout",
     "output_type": "stream",
     "text": [
      "{4=[John, Jane, Jack], 5=[Diana]}\n"
     ]
    }
   ],
   "source": [
    "//How to group elements?\n",
    "List<String> names = Arrays.asList(\"John\", \"Jane\", \"Jack\", \"Diana\");\n",
    "Map<Integer, List<String>> groupedByLength = names.stream()\n",
    "    .collect(Collectors.groupingBy(String::length));\n",
    "System.out.println(groupedByLength);"
   ]
  },
  {
   "cell_type": "code",
   "execution_count": 40,
   "id": "7567f172-9826-439a-bbd2-1b6e1db9f5e9",
   "metadata": {},
   "outputs": [
    {
     "name": "stdout",
     "output_type": "stream",
     "text": [
      "{false=[1, 3, 5], true=[2, 4]}\n"
     ]
    }
   ],
   "source": [
    "//How to partition elements?\n",
    "List<Integer> numbers = Arrays.asList(1, 2, 3, 4, 5);\n",
    "Map<Boolean, List<Integer>> partitioned = numbers.stream()\n",
    "    .collect(Collectors.partitioningBy(n -> n % 2 == 0));\n",
    "System.out.println(partitioned);"
   ]
  },
  {
   "cell_type": "code",
   "execution_count": 43,
   "id": "d58430cf-6ee1-46ea-8e9a-602c4dcdc692",
   "metadata": {},
   "outputs": [
    {
     "name": "stdout",
     "output_type": "stream",
     "text": [
      "{John=4, Doe=3, Jane=4}\n"
     ]
    }
   ],
   "source": [
    "//How to create a map from a stream?\n",
    "import java.util.function.Function;\n",
    "List<String> names = Arrays.asList(\"John\", \"Jane\", \"Doe\");\n",
    "Map<String, Integer> nameLengthMap = names.stream()\n",
    "    .collect(Collectors.toMap(\n",
    "        Function.identity(), \n",
    "        String::length       \n",
    "    ));\n",
    "System.out.println(nameLengthMap);"
   ]
  },
  {
   "cell_type": "code",
   "execution_count": 44,
   "id": "79cc3fe3-d377-4e8c-aaa1-e9311873a815",
   "metadata": {},
   "outputs": [
    {
     "name": "stdout",
     "output_type": "stream",
     "text": [
      "15\n"
     ]
    }
   ],
   "source": [
    "//How to use reduce to accumulate values?\n",
    "List<Integer> numbers = Arrays.asList(1, 2, 3, 4, 5);\n",
    "int sum = numbers.stream()\n",
    "    .reduce(0, Integer::sum);\n",
    "System.out.println(sum);"
   ]
  },
  {
   "cell_type": "code",
   "execution_count": 47,
   "id": "53073417-10cf-4785-84ee-20f2ae79e68d",
   "metadata": {},
   "outputs": [
    {
     "name": "stdout",
     "output_type": "stream",
     "text": [
      "A\n",
      "B\n",
      "C\n",
      "D\n",
      "E\n",
      "F\n"
     ]
    }
   ],
   "source": [
    "//How to concatenate streams?\n",
    "Stream<String> stream1 = Stream.of(\"A\", \"B\", \"C\");\n",
    "Stream<String> stream2 = Stream.of(\"D\", \"E\", \"F\");\n",
    "Stream<String> concatenated = Stream.concat(stream1, stream2);\n",
    "concatenated.forEach(System.out::println);"
   ]
  },
  {
   "cell_type": "code",
   "execution_count": 48,
   "id": "37416d8d-3624-4b51-bf52-6cfad57d33a0",
   "metadata": {},
   "outputs": [],
   "source": [
    "//SPECIALIZED STREAMS"
   ]
  },
  {
   "cell_type": "code",
   "execution_count": 50,
   "id": "83d8b6c9-0740-46cb-a93e-7618e0360ae3",
   "metadata": {},
   "outputs": [
    {
     "name": "stdout",
     "output_type": "stream",
     "text": [
      "a\n",
      "b\n",
      "c\n"
     ]
    }
   ],
   "source": [
    "//How to create a stream from an array?\n",
    "String[] array = {\"a\", \"b\", \"c\"};\n",
    "Stream<String> stream = Arrays.stream(array);\n",
    "stream.forEach(System.out::println);"
   ]
  },
  {
   "cell_type": "code",
   "execution_count": 53,
   "id": "ce2e7292-7c27-4132-9dca-5d39a14debef",
   "metadata": {},
   "outputs": [
    {
     "name": "stdout",
     "output_type": "stream",
     "text": [
      "1.0\n",
      "2.0\n",
      "3.0\n",
      "$$$$$$$$$$$$$$$\n",
      "1\n",
      "2\n",
      "3\n",
      "4\n",
      "5\n"
     ]
    }
   ],
   "source": [
    "//How to create a stream of primitive values?\n",
    "IntStream intStream = IntStream.of(1, 2, 3, 4, 5);\n",
    "DoubleStream doubleStream = DoubleStream.of(1.0, 2.0, 3.0);\n",
    "doubleStream.forEach(System.out::println);\n",
    "System.out.println(\"$\".repeat(15));\n",
    "intStream.forEach(System.out::println);"
   ]
  },
  {
   "cell_type": "code",
   "execution_count": 54,
   "id": "41c00f75-00a3-45cf-afdb-18c64abe74e9",
   "metadata": {},
   "outputs": [
    {
     "name": "stdout",
     "output_type": "stream",
     "text": [
      "1\n",
      "1\n",
      "1\n",
      "1\n",
      "1\n"
     ]
    }
   ],
   "source": [
    "//How to generate infinite streams?\n",
    "Stream<Integer> infiniteStream = Stream.generate(() -> 1)\n",
    "    .limit(5);\n",
    "infiniteStream.forEach(System.out::println);"
   ]
  },
  {
   "cell_type": "code",
   "execution_count": 55,
   "id": "15e06e2e-20ee-4b8f-8ec1-c95f42a2b7bb",
   "metadata": {},
   "outputs": [
    {
     "name": "stdout",
     "output_type": "stream",
     "text": [
      "0\n",
      "2\n",
      "4\n",
      "6\n",
      "8\n"
     ]
    }
   ],
   "source": [
    "//How to use iterate?\n",
    "Stream<Integer> numbers = Stream.iterate(0, n -> n + 2)\n",
    "    .limit(5);\n",
    "numbers.forEach(System.out::println);"
   ]
  },
  {
   "cell_type": "code",
   "execution_count": 56,
   "id": "99273441-cf4e-4b69-bae1-1956e91aab79",
   "metadata": {},
   "outputs": [],
   "source": [
    "//How to create an empty stream?\n",
    "Stream<String> emptyStream = Stream.empty();\n",
    "emptyStream.forEach(System.out::println);"
   ]
  },
  {
   "cell_type": "code",
   "execution_count": 57,
   "id": "87788dee-8756-40e9-bde0-cfc0c6b3779b",
   "metadata": {},
   "outputs": [],
   "source": [
    "//COLLECTORS"
   ]
  },
  {
   "cell_type": "code",
   "execution_count": 58,
   "id": "1bb190d1-3a15-4b72-8dfc-4f8488694dca",
   "metadata": {},
   "outputs": [
    {
     "name": "stdout",
     "output_type": "stream",
     "text": [
      "[Doe, Jane, John]\n"
     ]
    }
   ],
   "source": [
    "//How to collect to a specific collection type?\n",
    "List<String> names = Arrays.asList(\"John\", \"Jane\", \"Doe\");\n",
    "TreeSet<String> treeSet = names.stream()\n",
    "    .collect(Collectors.toCollection(TreeSet::new));\n",
    "System.out.println(treeSet);"
   ]
  },
  {
   "cell_type": "code",
   "execution_count": 59,
   "id": "ffd80129-306c-499a-b964-2eade289c0cc",
   "metadata": {},
   "outputs": [
    {
     "name": "stdout",
     "output_type": "stream",
     "text": [
      "IntSummaryStatistics{count=5, sum=15, min=1, average=3.000000, max=5}\n"
     ]
    }
   ],
   "source": [
    "//How to calculate summary statistics?\n",
    "List<Integer> numbers = Arrays.asList(1, 2, 3, 4, 5);\n",
    "IntSummaryStatistics stats = numbers.stream()\n",
    "    .mapToInt(Integer::intValue)\n",
    "    .summaryStatistics();\n",
    "System.out.println(stats);"
   ]
  },
  {
   "cell_type": "code",
   "execution_count": 60,
   "id": "8ec5ef77-13c5-4692-8b15-ef47fb63a015",
   "metadata": {},
   "outputs": [
    {
     "name": "stdout",
     "output_type": "stream",
     "text": [
      "[John, Jane, Doe]\n"
     ]
    }
   ],
   "source": [
    "//How to use collectingAndThen?\n",
    "List<String> names = Arrays.asList(\"John\", \"Jane\", \"Doe\");\n",
    "List<String> unmodifiableList = names.stream()\n",
    "    .collect(Collectors.collectingAndThen(\n",
    "        Collectors.toList(),\n",
    "        Collections::unmodifiableList\n",
    "    ));\n",
    "System.out.println(unmodifiableList);"
   ]
  },
  {
   "cell_type": "code",
   "execution_count": 61,
   "id": "4f2ef742-d82f-4a71-8490-e4ef470807e5",
   "metadata": {},
   "outputs": [
    {
     "name": "stdout",
     "output_type": "stream",
     "text": [
      "[4, 4, 3]\n"
     ]
    }
   ],
   "source": [
    "// How to use mapping collector?\n",
    "List<String> names = Arrays.asList(\"John\", \"Jane\", \"Doe\");\n",
    "List<Integer> nameLengths = names.stream()\n",
    "    .collect(Collectors.mapping(\n",
    "        String::length,\n",
    "        Collectors.toList()\n",
    "    ));\n",
    "System.out.println(nameLengths);"
   ]
  },
  {
   "cell_type": "code",
   "execution_count": 62,
   "id": "0881dd9d-88a2-44cd-bf96-05388dafc5ec",
   "metadata": {},
   "outputs": [
    {
     "name": "stdout",
     "output_type": "stream",
     "text": [
      "[2, 4]\n"
     ]
    }
   ],
   "source": [
    "// How to use filtering collector?\n",
    "List<Integer> numbers = Arrays.asList(1, 2, 3, 4, 5);\n",
    "List<Integer> evenNumbers = numbers.stream()\n",
    "    .collect(Collectors.filtering(\n",
    "        n -> n % 2 == 0,\n",
    "        Collectors.toList()\n",
    "    ));\n",
    "System.out.println(evenNumbers);"
   ]
  },
  {
   "cell_type": "code",
   "execution_count": 63,
   "id": "2ea9b1f1-1fdd-4801-9fe7-ad904320befe",
   "metadata": {},
   "outputs": [],
   "source": [
    "//PARALLEL STREAMS"
   ]
  },
  {
   "cell_type": "code",
   "execution_count": 67,
   "id": "975cf9b5-ad45-4c2a-9e78-2f58cb4fd40f",
   "metadata": {},
   "outputs": [
    {
     "name": "stdout",
     "output_type": "stream",
     "text": [
      "JaneJohnDoe"
     ]
    }
   ],
   "source": [
    "//How to create a parallel stream?\n",
    "List<String> names = Arrays.asList(\"John\", \"Jane\", \"Doe\");\n",
    "Stream<String> parallelStream = names.parallelStream();\n",
    "parallelStream.forEach(System.out::print);"
   ]
  },
  {
   "cell_type": "code",
   "execution_count": 68,
   "id": "cdb89a35-c7d1-4b55-82a0-e738d09ef6ad",
   "metadata": {},
   "outputs": [
    {
     "name": "stdout",
     "output_type": "stream",
     "text": [
      "[JOHN, JANE, DOE]\n"
     ]
    }
   ],
   "source": [
    "//How to convert between parallel and sequential?\n",
    "List<String> names = Arrays.asList(\"John\", \"Jane\", \"Doe\");\n",
    "List<String> result = names.stream()\n",
    "    .parallel()          // Convert to parallel\n",
    "    .map(String::toUpperCase)\n",
    "    .sequential()        // Convert back to sequential\n",
    "    .collect(Collectors.toList());\n",
    "System.out.println(result);"
   ]
  },
  {
   "cell_type": "code",
   "execution_count": 69,
   "id": "a1db1873-28c9-4aaf-b0a8-2451f2077066",
   "metadata": {},
   "outputs": [],
   "source": [
    "//ERROR HANDLING AND BEST PRACTICES"
   ]
  },
  {
   "cell_type": "code",
   "execution_count": 70,
   "id": "020a477f-1966-455f-8efd-089e761261ba",
   "metadata": {},
   "outputs": [
    {
     "name": "stdout",
     "output_type": "stream",
     "text": [
      "[John, Doe]\n"
     ]
    }
   ],
   "source": [
    "//How to handle null values?\n",
    "List<String> names = Arrays.asList(\"John\", null, \"Doe\");\n",
    "List<String> nonNullNames = names.stream()\n",
    "    .filter(Objects::nonNull)\n",
    "    .collect(Collectors.toList());\n",
    "System.out.println(nonNullNames);"
   ]
  },
  {
   "cell_type": "code",
   "execution_count": 71,
   "id": "61f6a0b1-5a20-468d-bfb0-a31eaa1e0727",
   "metadata": {},
   "outputs": [
    {
     "name": "stdout",
     "output_type": "stream",
     "text": [
      "[1, 2, 4]\n"
     ]
    }
   ],
   "source": [
    "// How to handle exceptions in streams?\n",
    "List<String> numbers = Arrays.asList(\"1\", \"2\", \"abc\", \"4\");\n",
    "List<Integer> parsedNumbers = numbers.stream()\n",
    "    .map(s -> {\n",
    "        try {\n",
    "            return Integer.parseInt(s);\n",
    "        } catch (NumberFormatException e) {\n",
    "            return null;\n",
    "        }\n",
    "    })\n",
    "    .filter(Objects::nonNull)\n",
    "    .collect(Collectors.toList());\n",
    "System.out.println(parsedNumbers);"
   ]
  },
  {
   "cell_type": "code",
   "execution_count": 73,
   "id": "c8e02f81-4087-4c38-92d6-26b2a849d067",
   "metadata": {},
   "outputs": [
    {
     "name": "stdout",
     "output_type": "stream",
     "text": [
      "[a, b, c]\n"
     ]
    }
   ],
   "source": [
    "//How to avoid modifying source collection?\n",
    "List<String> original = Arrays.asList(\"a\", \"b\", \"c\");\n",
    "List<String> modified = original.stream()\n",
    "    .map(String::toUpperCase)\n",
    "    .collect(Collectors.toList());\n",
    "System.out.println(original);"
   ]
  },
  {
   "cell_type": "code",
   "execution_count": 74,
   "id": "ff3e20a8-5d92-476a-a73e-adf231dfca17",
   "metadata": {},
   "outputs": [],
   "source": [
    "//REAL WORLD EXAMPLES"
   ]
  },
  {
   "cell_type": "code",
   "execution_count": 75,
   "id": "58172718-3a77-4f7c-85b8-2866d66a7585",
   "metadata": {},
   "outputs": [
    {
     "name": "stdout",
     "output_type": "stream",
     "text": [
      "apple\n"
     ]
    }
   ],
   "source": [
    "//How to find the most frequent element?\n",
    "List<String> words = Arrays.asList(\"apple\", \"banana\", \"apple\", \"orange\", \"banana\", \"apple\");\n",
    "String mostFrequent = words.stream()\n",
    "    .collect(Collectors.groupingBy(\n",
    "        Function.identity(),\n",
    "        Collectors.counting()\n",
    "    ))\n",
    "    .entrySet().stream()\n",
    "    .max(Map.Entry.comparingByValue())\n",
    "    .map(Map.Entry::getKey)\n",
    "    .orElse(null);\n",
    "System.out.println(mostFrequent);"
   ]
  },
  {
   "cell_type": "code",
   "execution_count": 76,
   "id": "1793c80a-05b2-46e5-bf33-f39183bdb3a9",
   "metadata": {},
   "outputs": [
    {
     "name": "stdout",
     "output_type": "stream",
     "text": [
      "[Doe=20, John=25, Jane=30]\n"
     ]
    }
   ],
   "source": [
    "//How to sort map by value?\n",
    "Map<String, Integer> map = Map.of(\"John\", 25, \"Jane\", 30, \"Doe\", 20);\n",
    "List<Map.Entry<String, Integer>> sorted = map.entrySet().stream()\n",
    "    .sorted(Map.Entry.comparingByValue())\n",
    "    .collect(Collectors.toList());\n",
    "System.out.println(sorted);"
   ]
  },
  {
   "cell_type": "code",
   "execution_count": 77,
   "id": "4fac7657-03f3-4e1b-adec-4e66fb83c315",
   "metadata": {},
   "outputs": [
    {
     "name": "stdout",
     "output_type": "stream",
     "text": [
      "[John, Jane]\n"
     ]
    }
   ],
   "source": [
    "//How to find duplicates?\n",
    "List<String> names = Arrays.asList(\"John\", \"Jane\", \"John\", \"Doe\", \"Jane\");\n",
    "Set<String> duplicates = names.stream()\n",
    "    .filter(name -> Collections.frequency(names, name) > 1)\n",
    "    .collect(Collectors.toSet());\n",
    "System.out.println(duplicates);"
   ]
  },
  {
   "cell_type": "code",
   "execution_count": 78,
   "id": "c0a6f113-7f6e-46e0-a724-a7fcc31d80ff",
   "metadata": {},
   "outputs": [
    {
     "name": "stdout",
     "output_type": "stream",
     "text": [
      "[5, 4, 3, 2, 1]\n"
     ]
    }
   ],
   "source": [
    "//How to reverse a list using streams?\n",
    "List<Integer> numbers = Arrays.asList(1, 2, 3, 4, 5);\n",
    "List<Integer> reversed = numbers.stream()\n",
    "    .collect(Collectors.collectingAndThen(\n",
    "        Collectors.toList(),\n",
    "        list -> {\n",
    "            Collections.reverse(list);\n",
    "            return list;\n",
    "        }\n",
    "    ));\n",
    "System.out.println(reversed);"
   ]
  },
  {
   "cell_type": "code",
   "execution_count": 79,
   "id": "4c4bf62e-79a3-4a2f-a58a-441b9d9129c8",
   "metadata": {},
   "outputs": [
    {
     "name": "stdout",
     "output_type": "stream",
     "text": [
      "Optional[Christopher]\n"
     ]
    }
   ],
   "source": [
    "// How to find the longest string?\n",
    "List<String> names = Arrays.asList(\"John\", \"Jane\", \"Christopher\", \"Doe\");\n",
    "Optional<String> longestName = names.stream()\n",
    "    .max(Comparator.comparingInt(String::length));\n",
    "System.out.println(longestName);"
   ]
  }
 ],
 "metadata": {
  "kernelspec": {
   "display_name": "Java",
   "language": "java",
   "name": "java"
  },
  "language_info": {
   "codemirror_mode": "java",
   "file_extension": ".jshell",
   "mimetype": "text/x-java-source",
   "name": "Java",
   "pygments_lexer": "java",
   "version": "21.0.7+8-LTS-245"
  }
 },
 "nbformat": 4,
 "nbformat_minor": 5
}
